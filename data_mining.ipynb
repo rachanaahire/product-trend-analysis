{
 "cells": [
  {
   "cell_type": "markdown",
   "id": "b1e7ae77",
   "metadata": {},
   "source": [
    "## Import libraries"
   ]
  },
  {
   "cell_type": "code",
   "execution_count": 1,
   "id": "edeee589",
   "metadata": {},
   "outputs": [],
   "source": [
    "%config Completer.use_jedi = False #to use autocomplete feature in jupyter\n",
    "import pandas as pd\n",
    "import numpy as np\n",
    "import sklearn as sk\n",
    "from sklearn.model_selection import train_test_split as tts\n",
    "from sklearn.linear_model import LogisticRegression\n",
    "from sklearn.metrics import accuracy_score, classification_report, roc_auc_score\n",
    "from sklearn.ensemble import ExtraTreesClassifier\n",
    "import matplotlib.pyplot as plt\n",
    "from sklearn.preprocessing import StandardScaler\n",
    "from sklearn.metrics import confusion_matrix, accuracy_score\n",
    "from sklearn.neighbors import KNeighborsClassifier\n",
    "from sklearn.svm import SVC\n",
    "from sklearn.naive_bayes import GaussianNB\n",
    "from sklearn.tree import DecisionTreeClassifier\n",
    "from sklearn.ensemble import RandomForestClassifier\n",
    "import seaborn as sns"
   ]
  },
  {
   "cell_type": "markdown",
   "id": "6aaf7c29",
   "metadata": {},
   "source": [
    "## Import dataset"
   ]
  },
  {
   "cell_type": "code",
   "execution_count": 2,
   "id": "35ae5310",
   "metadata": {},
   "outputs": [],
   "source": [
    "df = pd.read_csv('fashion.csv')"
   ]
  },
  {
   "cell_type": "markdown",
   "id": "148ab4c0",
   "metadata": {},
   "source": [
    "## Feature Engineering"
   ]
  },
  {
   "cell_type": "markdown",
   "id": "439914df",
   "metadata": {},
   "source": [
    "I manually removed some of the columns because out of 10k rows, 98% of the data was missing. Then I made a new .csv file which I will be using directly in this project."
   ]
  },
  {
   "cell_type": "code",
   "execution_count": 3,
   "id": "0f78e512",
   "metadata": {},
   "outputs": [
    {
     "data": {
      "text/html": [
       "<div>\n",
       "<style scoped>\n",
       "    .dataframe tbody tr th:only-of-type {\n",
       "        vertical-align: middle;\n",
       "    }\n",
       "\n",
       "    .dataframe tbody tr th {\n",
       "        vertical-align: top;\n",
       "    }\n",
       "\n",
       "    .dataframe thead th {\n",
       "        text-align: right;\n",
       "    }\n",
       "</style>\n",
       "<table border=\"1\" class=\"dataframe\">\n",
       "  <thead>\n",
       "    <tr style=\"text-align: right;\">\n",
       "      <th></th>\n",
       "      <th>sales_price</th>\n",
       "      <th>rating</th>\n",
       "      <th>delivery_type</th>\n",
       "      <th>amazon_prime__y_or_n</th>\n",
       "      <th>best_seller_tag__y_or_n</th>\n",
       "      <th>product_details__k_v_pairs/Customer_Reviews</th>\n",
       "      <th>discount_percentage</th>\n",
       "    </tr>\n",
       "  </thead>\n",
       "  <tbody>\n",
       "    <tr>\n",
       "      <th>0</th>\n",
       "      <td>200.0</td>\n",
       "      <td>5.0</td>\n",
       "      <td>fulfilled_by_merchant</td>\n",
       "      <td>N</td>\n",
       "      <td>N</td>\n",
       "      <td>5.0 out of 5 stars 3 customer reviews</td>\n",
       "      <td>NaN</td>\n",
       "    </tr>\n",
       "    <tr>\n",
       "      <th>1</th>\n",
       "      <td>265.0</td>\n",
       "      <td>3.6</td>\n",
       "      <td>fulfilled_by_merchant</td>\n",
       "      <td>N</td>\n",
       "      <td>N</td>\n",
       "      <td>3.0 out of 5 stars 3 customer reviews</td>\n",
       "      <td>NaN</td>\n",
       "    </tr>\n",
       "    <tr>\n",
       "      <th>2</th>\n",
       "      <td>660.0</td>\n",
       "      <td>3.5</td>\n",
       "      <td>fulfilled_by_merchant</td>\n",
       "      <td>Y</td>\n",
       "      <td>N</td>\n",
       "      <td>3.7 out of 5 stars 23 customer reviews</td>\n",
       "      <td>NaN</td>\n",
       "    </tr>\n",
       "    <tr>\n",
       "      <th>3</th>\n",
       "      <td>195.0</td>\n",
       "      <td>3.0</td>\n",
       "      <td>fulfilled_by_merchant</td>\n",
       "      <td>N</td>\n",
       "      <td>N</td>\n",
       "      <td>3.0 out of 5 stars 1 customer review</td>\n",
       "      <td>NaN</td>\n",
       "    </tr>\n",
       "    <tr>\n",
       "      <th>4</th>\n",
       "      <td>1914.0</td>\n",
       "      <td>5.0</td>\n",
       "      <td>fulfilled_by_merchant</td>\n",
       "      <td>Y</td>\n",
       "      <td>N</td>\n",
       "      <td>Be the first to review this item</td>\n",
       "      <td>40%</td>\n",
       "    </tr>\n",
       "  </tbody>\n",
       "</table>\n",
       "</div>"
      ],
      "text/plain": [
       "   sales_price  rating          delivery_type amazon_prime__y_or_n  \\\n",
       "0        200.0     5.0  fulfilled_by_merchant                    N   \n",
       "1        265.0     3.6  fulfilled_by_merchant                    N   \n",
       "2        660.0     3.5  fulfilled_by_merchant                    Y   \n",
       "3        195.0     3.0  fulfilled_by_merchant                    N   \n",
       "4       1914.0     5.0  fulfilled_by_merchant                    Y   \n",
       "\n",
       "  best_seller_tag__y_or_n product_details__k_v_pairs/Customer_Reviews  \\\n",
       "0                       N       5.0 out of 5 stars 3 customer reviews   \n",
       "1                       N       3.0 out of 5 stars 3 customer reviews   \n",
       "2                       N      3.7 out of 5 stars 23 customer reviews   \n",
       "3                       N        3.0 out of 5 stars 1 customer review   \n",
       "4                       N            Be the first to review this item   \n",
       "\n",
       "  discount_percentage  \n",
       "0                 NaN  \n",
       "1                 NaN  \n",
       "2                 NaN  \n",
       "3                 NaN  \n",
       "4                 40%  "
      ]
     },
     "execution_count": 3,
     "metadata": {},
     "output_type": "execute_result"
    }
   ],
   "source": [
    "df.head()"
   ]
  },
  {
   "cell_type": "markdown",
   "id": "063156b2",
   "metadata": {},
   "source": [
    "Removing the % from the columns of discount_percentage"
   ]
  },
  {
   "cell_type": "code",
   "execution_count": 4,
   "id": "22efd6c3",
   "metadata": {},
   "outputs": [
    {
     "data": {
      "text/plain": [
       "0    NaN\n",
       "1    NaN\n",
       "2    NaN\n",
       "3    NaN\n",
       "4    40%\n",
       "5    36%\n",
       "6    NaN\n",
       "7    60%\n",
       "8    NaN\n",
       "9    NaN\n",
       "Name: discount_percentage, dtype: object"
      ]
     },
     "execution_count": 4,
     "metadata": {},
     "output_type": "execute_result"
    }
   ],
   "source": [
    "df.discount_percentage.head(10)"
   ]
  },
  {
   "cell_type": "code",
   "execution_count": 5,
   "id": "b0a5e9bb",
   "metadata": {},
   "outputs": [],
   "source": [
    "df.discount_percentage = df.discount_percentage.str.replace('%', '')"
   ]
  },
  {
   "cell_type": "markdown",
   "id": "fb3f86f8",
   "metadata": {},
   "source": [
    "We have only two values, and we want the columns to be int, so we map fulfilled_by_merchant as 0 and fulfilled_by_amazon as 1 in the delivery_type column"
   ]
  },
  {
   "cell_type": "code",
   "execution_count": 6,
   "id": "ad7bc87c",
   "metadata": {},
   "outputs": [
    {
     "data": {
      "text/plain": [
       "fulfilled_by_merchant    8844\n",
       "fulfilled_by_amazon      1224\n",
       "Name: delivery_type, dtype: int64"
      ]
     },
     "execution_count": 6,
     "metadata": {},
     "output_type": "execute_result"
    }
   ],
   "source": [
    "df.delivery_type.value_counts()"
   ]
  },
  {
   "cell_type": "code",
   "execution_count": 7,
   "id": "5963d360",
   "metadata": {},
   "outputs": [],
   "source": [
    "df['delivery_type'] = df['delivery_type'].map({'fulfilled_by_merchant' : 0, 'fulfilled_by_amazon': 1})"
   ]
  },
  {
   "cell_type": "markdown",
   "id": "e4cee301",
   "metadata": {},
   "source": [
    "We have only two values, and we want the columns to be int, so we map N as 0 and Y as 1 in the amazon_prime__y_or_n column"
   ]
  },
  {
   "cell_type": "code",
   "execution_count": 8,
   "id": "6891f6cb",
   "metadata": {},
   "outputs": [
    {
     "data": {
      "text/plain": [
       "N    5569\n",
       "Y    4499\n",
       "Name: amazon_prime__y_or_n, dtype: int64"
      ]
     },
     "execution_count": 8,
     "metadata": {},
     "output_type": "execute_result"
    }
   ],
   "source": [
    "df.amazon_prime__y_or_n.value_counts()"
   ]
  },
  {
   "cell_type": "code",
   "execution_count": 9,
   "id": "26d75d96",
   "metadata": {},
   "outputs": [],
   "source": [
    "df['amazon_prime__y_or_n'] = df['amazon_prime__y_or_n'].map({'N' : 0, 'Y': 1})"
   ]
  },
  {
   "cell_type": "code",
   "execution_count": 10,
   "id": "e5cb8abb",
   "metadata": {},
   "outputs": [
    {
     "data": {
      "text/plain": [
       "N    10065\n",
       "Y        3\n",
       "Name: best_seller_tag__y_or_n, dtype: int64"
      ]
     },
     "execution_count": 10,
     "metadata": {},
     "output_type": "execute_result"
    }
   ],
   "source": [
    "df.best_seller_tag__y_or_n.value_counts()"
   ]
  },
  {
   "cell_type": "markdown",
   "id": "a9fe6432",
   "metadata": {},
   "source": [
    "This column is highly imbalanced so we drop it"
   ]
  },
  {
   "cell_type": "code",
   "execution_count": 11,
   "id": "315c9373",
   "metadata": {},
   "outputs": [],
   "source": [
    "df = df.drop(['best_seller_tag__y_or_n'], axis = 1) "
   ]
  },
  {
   "cell_type": "markdown",
   "id": "dbefa7e1",
   "metadata": {},
   "source": [
    "Let us now look at the product_details__k_v_pairs/Customer_Reviews column"
   ]
  },
  {
   "cell_type": "code",
   "execution_count": 12,
   "id": "63ee0629",
   "metadata": {},
   "outputs": [
    {
     "data": {
      "text/plain": [
       "Be the first to review this item           2223\n",
       "5.0 out of 5 stars 1 customer review       1557\n",
       "4.0 out of 5 stars 1 customer review        737\n",
       "5.0 out of 5 stars 2 customer reviews       325\n",
       "3.0 out of 5 stars 1 customer review        324\n",
       "                                           ... \n",
       "3.5 out of 5 stars 17 customer reviews        1\n",
       "3.8 out of 5 stars 104 customer reviews       1\n",
       "4.7 out of 5 stars 30 customer reviews        1\n",
       "4.3 out of 5 stars 58 customer reviews        1\n",
       "3.3 out of 5 stars 320 customer reviews       1\n",
       "Name: product_details__k_v_pairs/Customer_Reviews, Length: 906, dtype: int64"
      ]
     },
     "execution_count": 12,
     "metadata": {},
     "output_type": "execute_result"
    }
   ],
   "source": [
    "df['product_details__k_v_pairs/Customer_Reviews'].value_counts()"
   ]
  },
  {
   "cell_type": "markdown",
   "id": "f336fd8c",
   "metadata": {},
   "source": [
    "As you can see that there are huge sentences and we need to retain information from it"
   ]
  },
  {
   "cell_type": "code",
   "execution_count": 13,
   "id": "da2d73fe",
   "metadata": {},
   "outputs": [],
   "source": [
    "df['product_details__k_v_pairs/Customer_Reviews'] = df['product_details__k_v_pairs/Customer_Reviews'].replace('Be the first to review this item', '')"
   ]
  },
  {
   "cell_type": "markdown",
   "id": "f7f51fcb",
   "metadata": {},
   "source": [
    "We handle the Be the first to review this item here"
   ]
  },
  {
   "cell_type": "code",
   "execution_count": 14,
   "id": "a26c9cdd",
   "metadata": {},
   "outputs": [],
   "source": [
    "df['product_details__k_v_pairs/Customer_Reviews'] = df['product_details__k_v_pairs/Customer_Reviews'].apply(lambda x: str(x).split(' ')[0])"
   ]
  },
  {
   "cell_type": "markdown",
   "id": "c6ce85c4",
   "metadata": {},
   "source": [
    "Getting only the reviews"
   ]
  },
  {
   "cell_type": "markdown",
   "id": "99062267",
   "metadata": {},
   "source": [
    "## Handling missing values"
   ]
  },
  {
   "cell_type": "code",
   "execution_count": 15,
   "id": "ce64dd6a",
   "metadata": {},
   "outputs": [],
   "source": [
    "df['product_details__k_v_pairs/Customer_Reviews'] = df['product_details__k_v_pairs/Customer_Reviews'].replace('nan', '')"
   ]
  },
  {
   "cell_type": "code",
   "execution_count": 16,
   "id": "86cdd188",
   "metadata": {},
   "outputs": [],
   "source": [
    "df['product_details__k_v_pairs/Customer_Reviews'] = df['product_details__k_v_pairs/Customer_Reviews'].replace('', 'nan')"
   ]
  },
  {
   "cell_type": "code",
   "execution_count": 17,
   "id": "833b7a1e",
   "metadata": {},
   "outputs": [],
   "source": [
    "reviews_mean = df['product_details__k_v_pairs/Customer_Reviews'].astype(float).mean()"
   ]
  },
  {
   "cell_type": "code",
   "execution_count": 18,
   "id": "cd7ac80d",
   "metadata": {},
   "outputs": [],
   "source": [
    "df['cust_review'] = df['product_details__k_v_pairs/Customer_Reviews'].replace('nan', reviews_mean)"
   ]
  },
  {
   "cell_type": "code",
   "execution_count": 19,
   "id": "4d1f80cc",
   "metadata": {},
   "outputs": [
    {
     "data": {
      "text/plain": [
       "sales_price                                     9.137863\n",
       "rating                                          0.000000\n",
       "delivery_type                                   0.000000\n",
       "amazon_prime__y_or_n                            0.000000\n",
       "product_details__k_v_pairs/Customer_Reviews     0.000000\n",
       "discount_percentage                            51.032976\n",
       "cust_review                                     0.000000\n",
       "dtype: float64"
      ]
     },
     "execution_count": 19,
     "metadata": {},
     "output_type": "execute_result"
    }
   ],
   "source": [
    "df.isnull().sum()/len(df)*100"
   ]
  },
  {
   "cell_type": "code",
   "execution_count": 20,
   "id": "9318e21a",
   "metadata": {},
   "outputs": [],
   "source": [
    "df.discount_percentage = df.discount_percentage.fillna(0)\n"
   ]
  },
  {
   "cell_type": "code",
   "execution_count": 21,
   "id": "2c16a2e4",
   "metadata": {},
   "outputs": [],
   "source": [
    "df.sales_price = df.sales_price.fillna(df.sales_price.mean())"
   ]
  },
  {
   "cell_type": "code",
   "execution_count": 22,
   "id": "83453a4a",
   "metadata": {},
   "outputs": [
    {
     "data": {
      "text/plain": [
       "sales_price                                    0.0\n",
       "rating                                         0.0\n",
       "delivery_type                                  0.0\n",
       "amazon_prime__y_or_n                           0.0\n",
       "product_details__k_v_pairs/Customer_Reviews    0.0\n",
       "discount_percentage                            0.0\n",
       "cust_review                                    0.0\n",
       "dtype: float64"
      ]
     },
     "execution_count": 22,
     "metadata": {},
     "output_type": "execute_result"
    }
   ],
   "source": [
    "df.isnull().sum()/len(df)*100"
   ]
  },
  {
   "cell_type": "code",
   "execution_count": 23,
   "id": "27bcbe4c",
   "metadata": {},
   "outputs": [
    {
     "data": {
      "text/html": [
       "<div>\n",
       "<style scoped>\n",
       "    .dataframe tbody tr th:only-of-type {\n",
       "        vertical-align: middle;\n",
       "    }\n",
       "\n",
       "    .dataframe tbody tr th {\n",
       "        vertical-align: top;\n",
       "    }\n",
       "\n",
       "    .dataframe thead th {\n",
       "        text-align: right;\n",
       "    }\n",
       "</style>\n",
       "<table border=\"1\" class=\"dataframe\">\n",
       "  <thead>\n",
       "    <tr style=\"text-align: right;\">\n",
       "      <th></th>\n",
       "      <th>sales_price</th>\n",
       "      <th>rating</th>\n",
       "      <th>delivery_type</th>\n",
       "      <th>amazon_prime__y_or_n</th>\n",
       "      <th>product_details__k_v_pairs/Customer_Reviews</th>\n",
       "      <th>discount_percentage</th>\n",
       "      <th>cust_review</th>\n",
       "    </tr>\n",
       "  </thead>\n",
       "  <tbody>\n",
       "    <tr>\n",
       "      <th>0</th>\n",
       "      <td>200.0</td>\n",
       "      <td>5.0</td>\n",
       "      <td>0</td>\n",
       "      <td>0</td>\n",
       "      <td>5.0</td>\n",
       "      <td>0</td>\n",
       "      <td>5.0</td>\n",
       "    </tr>\n",
       "    <tr>\n",
       "      <th>1</th>\n",
       "      <td>265.0</td>\n",
       "      <td>3.6</td>\n",
       "      <td>0</td>\n",
       "      <td>0</td>\n",
       "      <td>3.0</td>\n",
       "      <td>0</td>\n",
       "      <td>3.0</td>\n",
       "    </tr>\n",
       "    <tr>\n",
       "      <th>2</th>\n",
       "      <td>660.0</td>\n",
       "      <td>3.5</td>\n",
       "      <td>0</td>\n",
       "      <td>1</td>\n",
       "      <td>3.7</td>\n",
       "      <td>0</td>\n",
       "      <td>3.7</td>\n",
       "    </tr>\n",
       "    <tr>\n",
       "      <th>3</th>\n",
       "      <td>195.0</td>\n",
       "      <td>3.0</td>\n",
       "      <td>0</td>\n",
       "      <td>0</td>\n",
       "      <td>3.0</td>\n",
       "      <td>0</td>\n",
       "      <td>3.0</td>\n",
       "    </tr>\n",
       "    <tr>\n",
       "      <th>4</th>\n",
       "      <td>1914.0</td>\n",
       "      <td>5.0</td>\n",
       "      <td>0</td>\n",
       "      <td>1</td>\n",
       "      <td>nan</td>\n",
       "      <td>40</td>\n",
       "      <td>4.081537</td>\n",
       "    </tr>\n",
       "  </tbody>\n",
       "</table>\n",
       "</div>"
      ],
      "text/plain": [
       "   sales_price  rating  delivery_type  amazon_prime__y_or_n  \\\n",
       "0        200.0     5.0              0                     0   \n",
       "1        265.0     3.6              0                     0   \n",
       "2        660.0     3.5              0                     1   \n",
       "3        195.0     3.0              0                     0   \n",
       "4       1914.0     5.0              0                     1   \n",
       "\n",
       "  product_details__k_v_pairs/Customer_Reviews discount_percentage cust_review  \n",
       "0                                         5.0                   0         5.0  \n",
       "1                                         3.0                   0         3.0  \n",
       "2                                         3.7                   0         3.7  \n",
       "3                                         3.0                   0         3.0  \n",
       "4                                         nan                  40    4.081537  "
      ]
     },
     "execution_count": 23,
     "metadata": {},
     "output_type": "execute_result"
    }
   ],
   "source": [
    "df.head()"
   ]
  },
  {
   "cell_type": "markdown",
   "id": "39fb0fff",
   "metadata": {},
   "source": [
    "As we have the cust_review column, we can drop product_details__k_v_pairs/Customer_Reviews"
   ]
  },
  {
   "cell_type": "code",
   "execution_count": 24,
   "id": "7928e036",
   "metadata": {},
   "outputs": [],
   "source": [
    "df = df.drop(['product_details__k_v_pairs/Customer_Reviews'], axis = 1) "
   ]
  },
  {
   "cell_type": "markdown",
   "id": "8b1f9005",
   "metadata": {},
   "source": [
    "## Changing the data types"
   ]
  },
  {
   "cell_type": "code",
   "execution_count": 25,
   "id": "12724b66",
   "metadata": {},
   "outputs": [
    {
     "data": {
      "text/plain": [
       "sales_price             float64\n",
       "rating                  float64\n",
       "delivery_type             int64\n",
       "amazon_prime__y_or_n      int64\n",
       "discount_percentage      object\n",
       "cust_review              object\n",
       "dtype: object"
      ]
     },
     "execution_count": 25,
     "metadata": {},
     "output_type": "execute_result"
    }
   ],
   "source": [
    "df.dtypes"
   ]
  },
  {
   "cell_type": "code",
   "execution_count": 26,
   "id": "c4edfe40",
   "metadata": {},
   "outputs": [],
   "source": [
    "df['cust_review'] = df['cust_review'].astype('float')\n",
    "df['discount_percentage'] = df['discount_percentage'].astype('int')\n",
    "df['sales_price'] = df['sales_price'].astype(int)\n",
    "df['rating'] = df['rating'].astype(int)\n",
    "df['cust_review'] = df['cust_review'].astype(int)"
   ]
  },
  {
   "cell_type": "code",
   "execution_count": 27,
   "id": "0186a4a9",
   "metadata": {},
   "outputs": [
    {
     "data": {
      "text/plain": [
       "(10068, 6)"
      ]
     },
     "execution_count": 27,
     "metadata": {},
     "output_type": "execute_result"
    }
   ],
   "source": [
    "df.shape"
   ]
  },
  {
   "cell_type": "markdown",
   "id": "e57b631b",
   "metadata": {},
   "source": [
    "## Feature Selection"
   ]
  },
  {
   "cell_type": "markdown",
   "id": "c59e0ffc",
   "metadata": {},
   "source": [
    "I will pick the predictors that are related to the target variable. Instead of doing it randomly, I will fit a model and find the best set of predictors "
   ]
  },
  {
   "cell_type": "code",
   "execution_count": 28,
   "id": "d0a4095a",
   "metadata": {},
   "outputs": [
    {
     "name": "stdout",
     "output_type": "stream",
     "text": [
      "[0.36168991 0.00372317 0.00419308 0.11414824 0.5162456 ]\n"
     ]
    }
   ],
   "source": [
    "X = df.drop(['rating'], axis = 1)\n",
    "y = df.rating\n",
    "model = ExtraTreesClassifier()\n",
    "model.fit(X,y)\n",
    "print(model.feature_importances_) \n"
   ]
  },
  {
   "cell_type": "code",
   "execution_count": 29,
   "id": "413f9904",
   "metadata": {},
   "outputs": [
    {
     "data": {
      "image/png": "[encoded data removed]",
      "text/plain": [
       "<Figure size 432x288 with 1 Axes>"
      ]
     },
     "metadata": {
      "needs_background": "light"
     },
     "output_type": "display_data"
    }
   ],
   "source": [
    "feat_importances = pd.Series(model.feature_importances_, index=X.columns)\n",
    "feat_importances.nlargest(23).plot(kind='barh')\n",
    "plt.show()"
   ]
  },
  {
   "cell_type": "markdown",
   "id": "1f50885e",
   "metadata": {},
   "source": [
    "The best set of predictors are cust_review, sales_price, discount_percentage. We will use these in the model."
   ]
  },
  {
   "cell_type": "markdown",
   "id": "0a8a3d7d",
   "metadata": {},
   "source": [
    "## Data Visualization/ Exploratory Data Analysis"
   ]
  },
  {
   "cell_type": "code",
   "execution_count": 30,
   "id": "87fb18fe",
   "metadata": {},
   "outputs": [
    {
     "data": {
      "text/html": [
       "<div>\n",
       "<style scoped>\n",
       "    .dataframe tbody tr th:only-of-type {\n",
       "        vertical-align: middle;\n",
       "    }\n",
       "\n",
       "    .dataframe tbody tr th {\n",
       "        vertical-align: top;\n",
       "    }\n",
       "\n",
       "    .dataframe thead th {\n",
       "        text-align: right;\n",
       "    }\n",
       "</style>\n",
       "<table border=\"1\" class=\"dataframe\">\n",
       "  <thead>\n",
       "    <tr style=\"text-align: right;\">\n",
       "      <th></th>\n",
       "      <th>sales_price</th>\n",
       "      <th>rating</th>\n",
       "      <th>delivery_type</th>\n",
       "      <th>amazon_prime__y_or_n</th>\n",
       "      <th>discount_percentage</th>\n",
       "      <th>cust_review</th>\n",
       "    </tr>\n",
       "  </thead>\n",
       "  <tbody>\n",
       "    <tr>\n",
       "      <th>0</th>\n",
       "      <td>200</td>\n",
       "      <td>5</td>\n",
       "      <td>0</td>\n",
       "      <td>0</td>\n",
       "      <td>0</td>\n",
       "      <td>5</td>\n",
       "    </tr>\n",
       "    <tr>\n",
       "      <th>1</th>\n",
       "      <td>265</td>\n",
       "      <td>3</td>\n",
       "      <td>0</td>\n",
       "      <td>0</td>\n",
       "      <td>0</td>\n",
       "      <td>3</td>\n",
       "    </tr>\n",
       "    <tr>\n",
       "      <th>2</th>\n",
       "      <td>660</td>\n",
       "      <td>3</td>\n",
       "      <td>0</td>\n",
       "      <td>1</td>\n",
       "      <td>0</td>\n",
       "      <td>3</td>\n",
       "    </tr>\n",
       "    <tr>\n",
       "      <th>3</th>\n",
       "      <td>195</td>\n",
       "      <td>3</td>\n",
       "      <td>0</td>\n",
       "      <td>0</td>\n",
       "      <td>0</td>\n",
       "      <td>3</td>\n",
       "    </tr>\n",
       "    <tr>\n",
       "      <th>4</th>\n",
       "      <td>1914</td>\n",
       "      <td>5</td>\n",
       "      <td>0</td>\n",
       "      <td>1</td>\n",
       "      <td>40</td>\n",
       "      <td>4</td>\n",
       "    </tr>\n",
       "  </tbody>\n",
       "</table>\n",
       "</div>"
      ],
      "text/plain": [
       "   sales_price  rating  delivery_type  amazon_prime__y_or_n  \\\n",
       "0          200       5              0                     0   \n",
       "1          265       3              0                     0   \n",
       "2          660       3              0                     1   \n",
       "3          195       3              0                     0   \n",
       "4         1914       5              0                     1   \n",
       "\n",
       "   discount_percentage  cust_review  \n",
       "0                    0            5  \n",
       "1                    0            3  \n",
       "2                    0            3  \n",
       "3                    0            3  \n",
       "4                   40            4  "
      ]
     },
     "execution_count": 30,
     "metadata": {},
     "output_type": "execute_result"
    }
   ],
   "source": [
    "df.head()"
   ]
  },
  {
   "cell_type": "code",
   "execution_count": 31,
   "id": "fe57c873",
   "metadata": {},
   "outputs": [
    {
     "data": {
      "text/plain": [
       "<matplotlib.legend.Legend at 0x17c7f6bc280>"
      ]
     },
     "execution_count": 31,
     "metadata": {},
     "output_type": "execute_result"
    },
    {
     "data": {
      "image/png": "[encoded data removed]",
      "text/plain": [
       "<Figure size 936x576 with 1 Axes>"
      ]
     },
     "metadata": {
      "needs_background": "light"
     },
     "output_type": "display_data"
    }
   ],
   "source": [
    "\n",
    "fig1 = plt.figure(figsize=(13,8))\n",
    "ax1=fig1.add_subplot(121)\n",
    "sns.countplot(data=df, hue='rating', x='cust_review')\n",
    "plt.title('cust_review vs rating', fontsize = 18)\n",
    "ax1.legend(loc=1)"
   ]
  },
  {
   "cell_type": "markdown",
   "id": "08a99467",
   "metadata": {},
   "source": [
    "It can be seen that products with higher customer review have higher product ratings"
   ]
  },
  {
   "cell_type": "code",
   "execution_count": 32,
   "id": "0c7dd9ca",
   "metadata": {},
   "outputs": [
    {
     "data": {
      "text/plain": [
       "<matplotlib.legend.Legend at 0x17c7f845b40>"
      ]
     },
     "execution_count": 32,
     "metadata": {},
     "output_type": "execute_result"
    },
    {
     "data": {
      "image/png": "[encoded data removed]",
      "text/plain": [
       "<Figure size 360x360 with 1 Axes>"
      ]
     },
     "metadata": {
      "needs_background": "light"
     },
     "output_type": "display_data"
    }
   ],
   "source": [
    "f= plt.figure(figsize=(5,5))\n",
    "\n",
    "ax1=f.add_subplot()\n",
    "\n",
    "sns.kdeplot(df.loc[df['rating'] == 1, 'sales_price'], label='1', shade = True)\n",
    "sns.kdeplot(df.loc[df['rating'] == 2, 'sales_price'], label='2', shade = True)\n",
    "sns.kdeplot(df.loc[df['rating'] == 3, 'sales_price'], label='3', shade = True)\n",
    "sns.kdeplot(df.loc[df['rating'] == 4, 'sales_price'], label='4', shade = True)\n",
    "sns.kdeplot(df.loc[df['rating'] == 5, 'sales_price'], label='5', shade = True)\n",
    "plt.title('sales_price vs rating', fontsize = 18)\n",
    "ax1.legend(loc = 1)"
   ]
  },
  {
   "cell_type": "markdown",
   "id": "213186f3",
   "metadata": {},
   "source": [
    "On average most product between sales_price 0-1000 are given 3 rating followed by 2 and 4."
   ]
  },
  {
   "cell_type": "code",
   "execution_count": 33,
   "id": "0a5623c0",
   "metadata": {},
   "outputs": [
    {
     "data": {
      "text/plain": [
       "<matplotlib.legend.Legend at 0x17c7f8bfa00>"
      ]
     },
     "execution_count": 33,
     "metadata": {},
     "output_type": "execute_result"
    },
    {
     "data": {
      "image/png": "[encoded data removed]",
      "text/plain": [
       "<Figure size 360x360 with 1 Axes>"
      ]
     },
     "metadata": {
      "needs_background": "light"
     },
     "output_type": "display_data"
    }
   ],
   "source": [
    "f= plt.figure(figsize=(5,5))\n",
    "\n",
    "ax1=f.add_subplot()\n",
    "\n",
    "sns.kdeplot(df.loc[df['rating'] == 1, 'discount_percentage'], label='1', shade = True)\n",
    "sns.kdeplot(df.loc[df['rating'] == 2, 'discount_percentage'], label='2', shade = True)\n",
    "sns.kdeplot(df.loc[df['rating'] == 3, 'discount_percentage'], label='3', shade = True)\n",
    "sns.kdeplot(df.loc[df['rating'] == 4, 'discount_percentage'], label='4', shade = True)\n",
    "sns.kdeplot(df.loc[df['rating'] == 5, 'discount_percentage'], label='5', shade = True)\n",
    "plt.title('discount_percentage vs rating', fontsize = 18)\n",
    "ax1.legend(loc = 1)"
   ]
  },
  {
   "cell_type": "markdown",
   "id": "445305f2",
   "metadata": {},
   "source": [
    "Most product which got a discount range between 40-60% got average rating of 2 and 5"
   ]
  },
  {
   "cell_type": "markdown",
   "id": "9ab85aba",
   "metadata": {},
   "source": [
    "## Modelling"
   ]
  },
  {
   "cell_type": "code",
   "execution_count": 34,
   "id": "fbeabd45",
   "metadata": {},
   "outputs": [],
   "source": [
    "    X = df[['cust_review', 'sales_price', 'discount_percentage']]\n",
    "y = df['rating'].astype(str)"
   ]
  },
  {
   "cell_type": "markdown",
   "id": "d741b607",
   "metadata": {},
   "source": [
    "After creating the X and y variable, we split it into train and test sets"
   ]
  },
  {
   "cell_type": "code",
   "execution_count": 35,
   "id": "fd322281",
   "metadata": {},
   "outputs": [],
   "source": [
    "xtrain, xtest, ytrain, ytest = tts(X, y, test_size=0.25, random_state=0)"
   ]
  },
  {
   "cell_type": "markdown",
   "id": "f7ea32c3",
   "metadata": {},
   "source": [
    "## Feature Scaling"
   ]
  },
  {
   "cell_type": "code",
   "execution_count": 36,
   "id": "3a85a1f3",
   "metadata": {},
   "outputs": [],
   "source": [
    "sc = StandardScaler()\n",
    "xtrain = sc.fit_transform(xtrain)\n",
    "xtest = sc.transform(xtest)"
   ]
  },
  {
   "cell_type": "markdown",
   "id": "622076ec",
   "metadata": {},
   "source": [
    "### Logistic Regression Classifier "
   ]
  },
  {
   "cell_type": "markdown",
   "id": "4b71e3c7",
   "metadata": {},
   "source": [
    "Fit and predict a logistic regression model"
   ]
  },
  {
   "cell_type": "code",
   "execution_count": 37,
   "id": "2d3dbb52",
   "metadata": {},
   "outputs": [],
   "source": [
    "list_accuracies = []\n",
    "\n",
    "classifier = LogisticRegression()\n",
    "classifier.fit(xtrain, ytrain)\n",
    "ypred = classifier.predict(xtest)"
   ]
  },
  {
   "cell_type": "markdown",
   "id": "4a8e93c6",
   "metadata": {},
   "source": [
    "Finding the accuracy_score and confusion matrix for the Logistic Regression model"
   ]
  },
  {
   "cell_type": "code",
   "execution_count": 38,
   "id": "9714e079",
   "metadata": {},
   "outputs": [
    {
     "name": "stdout",
     "output_type": "stream",
     "text": [
      "[[  0   0  20  46   0]\n",
      " [  0   0  57  46   6]\n",
      " [  0   0 612 222  27]\n",
      " [  0   0  56 757  61]\n",
      " [  0   0   0 189 418]]\n"
     ]
    },
    {
     "data": {
      "text/plain": [
       "0.7099721891140246"
      ]
     },
     "execution_count": 38,
     "metadata": {},
     "output_type": "execute_result"
    }
   ],
   "source": [
    "cm = confusion_matrix(ytest, ypred)\n",
    "print(cm)\n",
    "acc_score = accuracy_score(ytest, ypred)\n",
    "list_accuracies.append(acc_score)\n",
    "acc_score"
   ]
  },
  {
   "cell_type": "markdown",
   "id": "262ac8cf",
   "metadata": {},
   "source": [
    "The accuracy is 0.71"
   ]
  },
  {
   "cell_type": "markdown",
   "id": "c29e7d29",
   "metadata": {},
   "source": [
    "### K-nearest neighbour Classifier "
   ]
  },
  {
   "cell_type": "markdown",
   "id": "87584274",
   "metadata": {},
   "source": [
    "Fit and predict a KNN model"
   ]
  },
  {
   "cell_type": "code",
   "execution_count": 39,
   "id": "3a368ad8",
   "metadata": {},
   "outputs": [],
   "source": [
    "classifier = KNeighborsClassifier(n_neighbors = 4, metric = 'minkowski', p = 2)\n",
    "classifier.fit(xtrain, ytrain)\n",
    "ypred = classifier.predict(xtest)"
   ]
  },
  {
   "cell_type": "markdown",
   "id": "b99c33fc",
   "metadata": {},
   "source": [
    "Finding the accuracy_score and confusion matrix for the K-nearest neighbour model"
   ]
  },
  {
   "cell_type": "code",
   "execution_count": 40,
   "id": "c961d486",
   "metadata": {},
   "outputs": [
    {
     "name": "stdout",
     "output_type": "stream",
     "text": [
      "[[ 19   1   6  36   4]\n",
      " [  6  25  45  24   9]\n",
      " [  5   8 631 186  31]\n",
      " [ 15  11 159 592  97]\n",
      " [  4   7  32 178 386]]\n"
     ]
    },
    {
     "data": {
      "text/plain": [
       "0.6567342073897497"
      ]
     },
     "execution_count": 40,
     "metadata": {},
     "output_type": "execute_result"
    }
   ],
   "source": [
    "cm = confusion_matrix(ytest, ypred)\n",
    "print(cm)\n",
    "acc_score = accuracy_score(ytest, ypred)\n",
    "list_accuracies.append(acc_score)\n",
    "acc_score"
   ]
  },
  {
   "cell_type": "markdown",
   "id": "4782ce23",
   "metadata": {},
   "source": [
    "The accuracy is 0.66"
   ]
  },
  {
   "cell_type": "markdown",
   "id": "dd41e9da",
   "metadata": {},
   "source": [
    "### SVC Classifier "
   ]
  },
  {
   "cell_type": "markdown",
   "id": "2d2cf3a7",
   "metadata": {},
   "source": [
    "Fit and predict a SVC model"
   ]
  },
  {
   "cell_type": "code",
   "execution_count": 41,
   "id": "e39524ee",
   "metadata": {},
   "outputs": [],
   "source": [
    "classifier = SVC(kernel = 'linear', random_state = 0)\n",
    "classifier.fit(xtrain, ytrain)\n",
    "ypred = classifier.predict(xtest)"
   ]
  },
  {
   "cell_type": "markdown",
   "id": "1149c483",
   "metadata": {},
   "source": [
    "Finding the accuracy_score and confusion matrix for the SVC model"
   ]
  },
  {
   "cell_type": "code",
   "execution_count": 42,
   "id": "969c3ac5",
   "metadata": {},
   "outputs": [
    {
     "name": "stdout",
     "output_type": "stream",
     "text": [
      "[[  0   0  20  46   0]\n",
      " [  0   0  57  46   6]\n",
      " [  0   0 612 222  27]\n",
      " [  0   0  56 757  61]\n",
      " [  0   0   0 189 418]]\n"
     ]
    },
    {
     "data": {
      "text/plain": [
       "0.7099721891140246"
      ]
     },
     "execution_count": 42,
     "metadata": {},
     "output_type": "execute_result"
    }
   ],
   "source": [
    "cm = confusion_matrix(ytest, ypred)\n",
    "print(cm)\n",
    "acc_score = accuracy_score(ytest, ypred)\n",
    "list_accuracies.append(acc_score)\n",
    "acc_score"
   ]
  },
  {
   "cell_type": "markdown",
   "id": "3bd4315a",
   "metadata": {},
   "source": [
    "The accuracy is 0.71"
   ]
  },
  {
   "cell_type": "markdown",
   "id": "f57a7a31",
   "metadata": {},
   "source": [
    "### Gaussian NB Classifier "
   ]
  },
  {
   "cell_type": "markdown",
   "id": "f7e7ebe9",
   "metadata": {},
   "source": [
    "Fit and predict a Gaussian NB model"
   ]
  },
  {
   "cell_type": "code",
   "execution_count": 43,
   "id": "06f5fa5a",
   "metadata": {},
   "outputs": [],
   "source": [
    "classifier = GaussianNB()\n",
    "classifier.fit(xtrain, ytrain)\n",
    "ypred = classifier.predict(xtest)"
   ]
  },
  {
   "cell_type": "markdown",
   "id": "8fb52aea",
   "metadata": {},
   "source": [
    "Finding the accuracy_score and confusion matrix for the Gaussian NB model"
   ]
  },
  {
   "cell_type": "code",
   "execution_count": 44,
   "id": "1ba059f0",
   "metadata": {},
   "outputs": [
    {
     "name": "stdout",
     "output_type": "stream",
     "text": [
      "[[  5  14   1  46   0]\n",
      " [  2   2  53  46   6]\n",
      " [  0   1 609 224  27]\n",
      " [  0   0  55 758  61]\n",
      " [  0   0   0 190 417]]\n"
     ]
    },
    {
     "data": {
      "text/plain": [
       "0.7115613825983313"
      ]
     },
     "execution_count": 44,
     "metadata": {},
     "output_type": "execute_result"
    }
   ],
   "source": [
    "cm = confusion_matrix(ytest, ypred)\n",
    "print(cm)\n",
    "acc_score = accuracy_score(ytest, ypred)\n",
    "list_accuracies.append(acc_score)\n",
    "acc_score"
   ]
  },
  {
   "cell_type": "markdown",
   "id": "24c585a6",
   "metadata": {},
   "source": [
    "The accuracy is 0.7115"
   ]
  },
  {
   "cell_type": "markdown",
   "id": "b6d5120a",
   "metadata": {},
   "source": [
    "### Decision Tree Classifier "
   ]
  },
  {
   "cell_type": "markdown",
   "id": "5a6c62e2",
   "metadata": {},
   "source": [
    "Fit and predict a Decision Tree Classifier model"
   ]
  },
  {
   "cell_type": "code",
   "execution_count": 45,
   "id": "41b2edd7",
   "metadata": {},
   "outputs": [],
   "source": [
    "classifier = DecisionTreeClassifier(criterion = 'entropy', random_state = 0)\n",
    "classifier.fit(xtrain, ytrain)\n",
    "ypred = classifier.predict(xtest)"
   ]
  },
  {
   "cell_type": "markdown",
   "id": "4159be02",
   "metadata": {},
   "source": [
    "Finding the accuracy_score and confusion matrix for the Decision Tree Classifier  model"
   ]
  },
  {
   "cell_type": "code",
   "execution_count": 46,
   "id": "85accff8",
   "metadata": {},
   "outputs": [
    {
     "name": "stdout",
     "output_type": "stream",
     "text": [
      "[[ 18   2  10  32   4]\n",
      " [  6  17  42  36   8]\n",
      " [ 11  33 572 209  36]\n",
      " [ 25  21 137 563 128]\n",
      " [  5   9  52 179 362]]\n"
     ]
    },
    {
     "data": {
      "text/plain": [
       "0.6086611044894716"
      ]
     },
     "execution_count": 46,
     "metadata": {},
     "output_type": "execute_result"
    }
   ],
   "source": [
    "cm = confusion_matrix(ytest, ypred)\n",
    "print(cm)\n",
    "acc_score = accuracy_score(ytest, ypred)\n",
    "list_accuracies.append(acc_score)\n",
    "acc_score"
   ]
  },
  {
   "cell_type": "markdown",
   "id": "e3828971",
   "metadata": {},
   "source": [
    "The accuracy is 0.61"
   ]
  },
  {
   "cell_type": "markdown",
   "id": "2e3f8caa",
   "metadata": {},
   "source": [
    "### Randomn Forest Classifier"
   ]
  },
  {
   "cell_type": "markdown",
   "id": "c8c29ab3",
   "metadata": {},
   "source": [
    "Fit and predict a Randomn Forest Classifier model"
   ]
  },
  {
   "cell_type": "code",
   "execution_count": 47,
   "id": "27d844b7",
   "metadata": {},
   "outputs": [],
   "source": [
    "classifier = RandomForestClassifier(n_estimators = 500, criterion = 'entropy', random_state = 0)\n",
    "classifier.fit(xtrain, ytrain)\n",
    "ypred = classifier.predict(xtest)"
   ]
  },
  {
   "cell_type": "markdown",
   "id": "84939013",
   "metadata": {},
   "source": [
    "Finding the accuracy_score and confusion matrix for the Randomn Forest Classifier model"
   ]
  },
  {
   "cell_type": "code",
   "execution_count": 48,
   "id": "16c2eaa8",
   "metadata": {},
   "outputs": [
    {
     "name": "stdout",
     "output_type": "stream",
     "text": [
      "[[ 16   2   9  33   6]\n",
      " [  2  16  43  39   9]\n",
      " [  5  18 592 204  42]\n",
      " [ 12  11 112 614 125]\n",
      " [  2   5  23 177 400]]\n"
     ]
    },
    {
     "data": {
      "text/plain": [
       "0.6507747318235996"
      ]
     },
     "execution_count": 48,
     "metadata": {},
     "output_type": "execute_result"
    }
   ],
   "source": [
    "cm = confusion_matrix(ytest, ypred)\n",
    "print(cm)\n",
    "acc_score = accuracy_score(ytest, ypred)\n",
    "list_accuracies.append(acc_score)\n",
    "acc_score"
   ]
  },
  {
   "cell_type": "markdown",
   "id": "6fb451a9",
   "metadata": {},
   "source": [
    "The accuracy is 0.65"
   ]
  },
  {
   "cell_type": "code",
   "execution_count": 49,
   "id": "0c3b0feb",
   "metadata": {},
   "outputs": [
    {
     "name": "stdout",
     "output_type": "stream",
     "text": [
      "[0.7099721891140246, 0.6567342073897497, 0.7099721891140246, 0.7115613825983313, 0.6086611044894716, 0.6507747318235996]\n",
      "                  Name     Score\n",
      "0  Logistic Regression  0.709972\n",
      "1                  KNN  0.656734\n",
      "2                  SVC  0.709972\n",
      "3          Gaussian NB  0.711561\n",
      "4                   DT  0.608661\n",
      "5                   RF  0.650775\n"
     ]
    }
   ],
   "source": [
    "print(list_accuracies)\n",
    "names = ['Logistic Regression', 'KNN', 'SVC', 'Gaussian NB', 'DT', 'RF']\n",
    "\n",
    "accuracy_df = pd.DataFrame({'Name': names, 'Score': list_accuracies})\n",
    "print(accuracy_df)"
   ]
  },
  {
   "cell_type": "code",
   "execution_count": 50,
   "id": "f6f81572",
   "metadata": {},
   "outputs": [
    {
     "data": {
      "image/png": "[encoded data removed]",
      "text/plain": [
       "<Figure size 432x288 with 1 Axes>"
      ]
     },
     "metadata": {
      "needs_background": "light"
     },
     "output_type": "display_data"
    }
   ],
   "source": [
    "axis = sns.barplot(x = 'Name', y = 'Score', data = accuracy_df )\n",
    "axis.set(xlabel='Classifier', ylabel='Accuracy')\n",
    "\n",
    "for p in axis.patches:\n",
    "    height = p.get_height()\n",
    "    axis.text(p.get_x() + p.get_width()/2, height + 0.005, '{:1.4f}'.format(height), ha=\"center\") \n",
    "    \n",
    "plt.show()"
   ]
  },
  {
   "cell_type": "markdown",
   "id": "df97f024",
   "metadata": {},
   "source": [
    "Gaussian NB Classifier has the best accuracy amongst all the other classifiers."
   ]
  },
  {
   "cell_type": "markdown",
   "id": "bc210d76",
   "metadata": {},
   "source": [
    "## Prediction on new data"
   ]
  },
  {
   "cell_type": "markdown",
   "id": "58599084",
   "metadata": {},
   "source": [
    "I will predict rating of the product using new values of customer review, sales price and discount percentage"
   ]
  },
  {
   "cell_type": "code",
   "execution_count": 51,
   "id": "b828cfe6",
   "metadata": {},
   "outputs": [
    {
     "data": {
      "text/plain": [
       "GaussianNB()"
      ]
     },
     "execution_count": 51,
     "metadata": {},
     "output_type": "execute_result"
    }
   ],
   "source": [
    "classifier = GaussianNB()\n",
    "classifier.fit(xtrain, ytrain)"
   ]
  },
  {
   "cell_type": "code",
   "execution_count": 52,
   "id": "309fe428",
   "metadata": {
    "scrolled": true
   },
   "outputs": [
    {
     "name": "stdout",
     "output_type": "stream",
     "text": [
      "['2']\n"
     ]
    },
    {
     "name": "stderr",
     "output_type": "stream",
     "text": [
      "C:\\Users\\racha\\AppData\\Local\\Programs\\Python\\Python310\\lib\\site-packages\\sklearn\\base.py:450: UserWarning: X does not have valid feature names, but StandardScaler was fitted with feature names\n",
      "  warnings.warn(\n"
     ]
    }
   ],
   "source": [
    "print(classifier.predict(sc.transform([[1,400,40]])))"
   ]
  },
  {
   "cell_type": "code",
   "execution_count": null,
   "id": "116749d1",
   "metadata": {},
   "outputs": [],
   "source": []
  },
  {
   "cell_type": "code",
   "execution_count": null,
   "id": "3cbfd3b5",
   "metadata": {},
   "outputs": [],
   "source": []
  },
  {
   "cell_type": "code",
   "execution_count": null,
   "id": "c6fe5152",
   "metadata": {},
   "outputs": [],
   "source": []
  },
  {
   "cell_type": "code",
   "execution_count": null,
   "id": "837714a9",
   "metadata": {},
   "outputs": [],
   "source": []
  },
  {
   "cell_type": "code",
   "execution_count": null,
   "id": "128dcd41",
   "metadata": {},
   "outputs": [],
   "source": []
  },
  {
   "cell_type": "code",
   "execution_count": null,
   "id": "e0f46cc4",
   "metadata": {},
   "outputs": [],
   "source": []
  },
  {
   "cell_type": "code",
   "execution_count": null,
   "id": "a9ad8b37",
   "metadata": {},
   "outputs": [],
   "source": []
  }
 ],
 "metadata": {
  "kernelspec": {
   "display_name": "Python 3 (ipykernel)",
   "language": "python",
   "name": "python3"
  },
  "language_info": {
   "codemirror_mode": {
    "name": "ipython",
    "version": 3
   },
   "file_extension": ".py",
   "mimetype": "text/x-python",
   "name": "python",
   "nbconvert_exporter": "python",
   "pygments_lexer": "ipython3",
   "version": "3.10.2"
  }
 },
 "nbformat": 4,
 "nbformat_minor": 5
}
